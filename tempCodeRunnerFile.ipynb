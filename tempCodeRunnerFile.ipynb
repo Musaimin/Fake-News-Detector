    text = [word for word in text.split(' ') if word not in stopword]
